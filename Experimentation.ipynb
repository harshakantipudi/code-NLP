{
 "cells": [
  {
   "cell_type": "code",
   "execution_count": 3,
   "metadata": {
    "colab": {
     "base_uri": "https://localhost:8080/"
    },
    "id": "ZUA1jkAy39Fg",
    "outputId": "69268d4a-378c-4d17-8c37-e6d496bb93f0"
   },
   "outputs": [
    {
     "name": "stdout",
     "output_type": "stream",
     "text": [
      "Legal Agreement 1:\n",
      "Payments shall be made to such address as may from time to time be designated by any holder.\n",
      "The undersigned and all other parties to this note, whether as endorsers, guarantors or sureties, shall remain fully bound until this note is paid and waive demand, presentment and protest and all notices thereto and further agree to remain bound, notwithstanding any extension, modification, waiver, or other indulgence or discharge or release of any obligor hereunder or exchange, substitution, or release of any collateral granted as security for this note. No modification or indulgence by any holder hereof shall be binding unless in writing; and any indulgence on any one occasion shall not be an indulgence for any other or future occasion. \n",
      "\n",
      "Corresponding Paragraph:\n",
      "\n",
      "The rights of any holder hereof shall be cumulative and not necessarily successive. This note shall take effect as a sealed instrument and be governed and enforced in accordance with the laws of ________________________________________   .\n",
      "\n"
     ]
    }
   ],
   "source": [
    "import re\n",
    "\n",
    "with open('file3.txt', 'r') as file:\n",
    "    text = file.read()\n",
    "\n",
    "\n",
    "legal_agreements = re.findall(r'Legal Agreement\\n\\n(.*?)\\n\\n', text, re.DOTALL)\n",
    "legal_paragraphs = re.findall(r'Legal Agreement\\n\\n.*?\\n\\n(.*?)\\n\\n', text, re.DOTALL)\n",
    "\n",
    "for i, (agreement, paragraph) in enumerate(zip(legal_agreements, legal_paragraphs)):\n",
    "    print(f\"Legal Agreement {i + 1}:\\n{agreement}\\n\")\n",
    "    print(f\"Corresponding Paragraph:\\n{paragraph}\\n\")\n"
   ]
  },
  {
   "cell_type": "markdown",
   "metadata": {
    "id": "QBtFLAxn9yg_"
   },
   "source": [
    "<b> Model-1 Existing Model"
   ]
  },
  {
   "cell_type": "code",
   "execution_count": 8,
   "metadata": {
    "id": "1P7saF4d4En0"
   },
   "outputs": [],
   "source": [
    "\n",
    "import spacy\n",
    "import torch\n",
    "import torch.nn as nn\n",
    "import torch.nn.functional as F\n",
    "import numpy as np\n",
    "#Initialize spaCy\n",
    "nlp=spacy.load('en_core_web_sm')\n",
    "#Mortgage-related training data\n",
    "sentences=[\n",
    "\"In this Mortgage Deed, Bank of America, the Lender, provides a the loan of $500,000 to John Doe, the Borrower, secured by the property at 123 Elm St.\",]\n",
    "#Corresponding named entity annotations (simplified)\n",
    "#0 for 'Other', 1 for 'Person', 2 for Property Address', 3 for 'Bank (Lender)', 4 for Loan Amount\", 5 for 'Document Type'\n",
    "labels =[ [0, 0, 5, 5, 0, 3, 3, 3, 0, 0, 0, 0, 0, 0, 0, 0, 4, 4, 0, 1, 1, 0, 0, 0, 0, 0, 0, 0, 0, 0, 2, 2, 2, 0],]\n",
    "#Tokenization\n",
    "token_lists = [list(nlp(sentence)) for sentence in sentences]\n",
    "#Validate token and label lengths\n",
    "for idx, tokens in enumerate(token_lists):\n",
    "  assert len(tokens)== len(labels[idx]),f\" Mismatch in sentence {idx + 1}, Tokens: {len(tokens)}, Labels: {len(labels[idx])}\"\n",
    "#Convert token vectors to embeddings\n",
    "embeddings = [np.array([token.vector for token in token_list]) for token_list in token_lists]\n",
    "embeddings = [torch.tensor(emb) for emb in embeddings]\n",
    "X_train = torch.cat(embeddings, dim=0)\n",
    "Y_train = torch.tensor([label for sublist in labels for label in sublist])\n"
   ]
  },
  {
   "cell_type": "code",
   "execution_count": 18,
   "metadata": {
    "id": "MxoF1VqXdfGK"
   },
   "outputs": [],
   "source": [
    "class SimpleNERModel(nn.Module):\n",
    "  def __init__(self, input_dim, num_labels):\n",
    "    super(SimpleNERModel, self).__init__()\n",
    "    self.fc= nn.Linear(input_dim, num_labels)\n",
    "  def forward(self, x):\n",
    "    return self.fc(x)\n"
   ]
  },
  {
   "cell_type": "code",
   "execution_count": 20,
   "metadata": {
    "id": "FfvcVsy07Lfj"
   },
   "outputs": [],
   "source": [
    "# Initialize and train the model\n",
    "input_dim=X_train.size(1)\n",
    "num_labels = 6 # 'Other', 'Person', 'Property Address'\n",
    "model = SimpleNERModel(input_dim, num_labels)\n",
    "criterion = nn.CrossEntropyLoss()\n",
    "optimizer =  torch.optim.Adam(model.parameters(), lr=0.01)\n"
   ]
  },
  {
   "cell_type": "code",
   "execution_count": 22,
   "metadata": {
    "colab": {
     "base_uri": "https://localhost:8080/"
    },
    "id": "sFRK2blG7LjD",
    "outputId": "bd511237-fba6-4808-a0ea-a43ad3652bbf"
   },
   "outputs": [
    {
     "name": "stdout",
     "output_type": "stream",
     "text": [
      "Token: This, Label: Other, Confidence: 0.874897\n",
      "Token: Deed, Label: Other, Confidence: 0.938659\n",
      "Token: of, Label: Bank (Lender), Confidence: 0.642777\n",
      "Token: Trust, Label: Bank (Lender), Confidence: 0.637639\n",
      "Token: was, Label: Loan Amount, Confidence: 0.401456\n",
      "Token: made, Label: Other, Confidence: 0.972322\n",
      "Token: between, Label: Other, Confidence: 0.963456\n",
      "Token: David, Label: Person, Confidence: 0.591018\n",
      "Token: Lee, Label: Bank (Lender), Confidence: 0.962334\n",
      "Token: as, Label: Property Address, Confidence: 0.506807\n",
      "Token: Trustee, Label: Bank (Lender), Confidence: 0.701529\n",
      "Token: and, Label: Person, Confidence: 0.803405\n",
      "Token: Michelle, Label: Bank (Lender), Confidence: 0.802453\n",
      "Token: King, Label: Bank (Lender), Confidence: 0.867991\n",
      "Token: as, Label: Bank (Lender), Confidence: 0.791308\n",
      "Token: Beneficiary, Label: Other, Confidence: 0.609886\n",
      "Token: for, Label: Property Address, Confidence: 0.422601\n",
      "Token: 789, Label: Other, Confidence: 0.527881\n",
      "Token: Oak, Label: Property Address, Confidence: 0.943897\n",
      "Token: Rd, Label: Other, Confidence: 0.586126\n",
      "Token: with, Label: Other, Confidence: 0.961469\n",
      "Token: a, Label: Other, Confidence: 0.997566\n",
      "Token: sum, Label: Other, Confidence: 0.973261\n",
      "Token: of, Label: Loan Amount, Confidence: 0.979951\n",
      "Token: $, Label: Loan Amount, Confidence: 0.997632\n",
      "Token: 250,000, Label: Other, Confidence: 0.994734\n",
      "Token: ., Label: Other, Confidence: 0.594636\n"
     ]
    }
   ],
   "source": [
    "# Train the model (simplified)\n",
    "for epoch in range(100):\n",
    "  optimizer.zero_grad()\n",
    "  outputs= model(X_train)\n",
    "  loss = criterion(outputs, Y_train)\n",
    "  loss.backward()\n",
    "  optimizer.step()\n",
    "  # Predict named entities and get confidence scores for a new sentence\n",
    "new_sentence = \"This Deed of Trust was made between David Lee as Trustee and Michelle King as Beneficiary for 789 Oak Rd with a sum of $250,000.\"\n",
    "new_doc = nlp(new_sentence)\n",
    "new_embeddings = torch.tensor([token.vector for token in new_doc])\n",
    "with torch.no_grad():\n",
    "  predictions = model(new_embeddings)\n",
    "  softmax_outputs = F.softmax(predictions, dim=1)\n",
    "  predicted_classes = torch.argmax(softmax_outputs, dim=1)\n",
    "  confidence_scores = torch.max(softmax_outputs, dim=1)[0]\n",
    "label_map = {0: 'Other', 1: 'Person', 2: 'Property Address', 3:'Bank (Lender)', 4: 'Loan Amount', 5: 'Document Type'}\n",
    "for token, label, confidence in zip(new_doc, predicted_classes, confidence_scores):\n",
    "    print(f\"Token: {token}, Label: {label_map[label.item()]}, Confidence: {confidence.item():4f}\")\n"
   ]
  },
  {
   "cell_type": "code",
   "execution_count": null,
   "metadata": {
    "id": "6ASmHkHJ48PI"
   },
   "outputs": [],
   "source": []
  },
  {
   "cell_type": "markdown",
   "metadata": {
    "id": "_PBgGUjK9viJ"
   },
   "source": [
    "<b> Model2"
   ]
  },
  {
   "cell_type": "code",
   "execution_count": 23,
   "metadata": {
    "colab": {
     "base_uri": "https://localhost:8080/"
    },
    "id": "6R_xbDEQ8dPs",
    "outputId": "b3f92d68-5383-485f-b093-0758c895aaa5"
   },
   "outputs": [
    {
     "name": "stdout",
     "output_type": "stream",
     "text": [
      "Token: This, Label: Other, Confidence: 0.5528\n",
      "Token: Deed, Label: Other, Confidence: 0.7948\n",
      "Token: of, Label: Loan Amount, Confidence: 0.7387\n",
      "Token: Trust, Label: Other, Confidence: 0.9359\n",
      "Token: was, Label: Person, Confidence: 0.6197\n",
      "Token: made, Label: Other, Confidence: 0.8588\n",
      "Token: between, Label: Other, Confidence: 0.8281\n",
      "Token: David, Label: Person, Confidence: 0.6068\n",
      "Token: Lee, Label: Bank (Lender), Confidence: 0.9006\n",
      "Token: as, Label: Property Address, Confidence: 0.9094\n",
      "Token: Trustee, Label: Other, Confidence: 0.6196\n",
      "Token: and, Label: Property Address, Confidence: 0.4198\n",
      "Token: Michelle, Label: Bank (Lender), Confidence: 0.6985\n",
      "Token: King, Label: Bank (Lender), Confidence: 0.9174\n",
      "Token: as, Label: Bank (Lender), Confidence: 0.6726\n",
      "Token: Beneficiary, Label: Other, Confidence: 0.7662\n",
      "Token: for, Label: Other, Confidence: 0.3868\n",
      "Token: 789, Label: Other, Confidence: 0.6133\n",
      "Token: Oak, Label: Property Address, Confidence: 0.8091\n",
      "Token: Rd, Label: Other, Confidence: 0.6973\n",
      "Token: with, Label: Other, Confidence: 0.8686\n",
      "Token: a, Label: Other, Confidence: 0.9980\n",
      "Token: sum, Label: Other, Confidence: 0.8813\n",
      "Token: of, Label: Loan Amount, Confidence: 0.9770\n",
      "Token: $, Label: Loan Amount, Confidence: 0.9968\n",
      "Token: 250,000, Label: Other, Confidence: 0.9657\n",
      "Token: ., Label: Person, Confidence: 0.6828\n"
     ]
    }
   ],
   "source": [
    "import tensorflow as tf\n",
    "import numpy as np\n",
    "\n",
    "# Initialize spaCy\n",
    "nlp = spacy.load('en_core_web_sm')\n",
    "\n",
    "# Mortgage-related training data\n",
    "sentences = [\n",
    "    \"In this Mortgage Deed, Bank of America, the Lender, provides a the loan of $500,000 to John Doe, the Borrower, secured by the property at 123 Elm St.\",\n",
    "]\n",
    "\n",
    "# Corresponding named entity annotations (simplified)\n",
    "# 0 for 'Other', 1 for 'Person', 2 for Property Address', 3 for 'Bank (Lender)', 4 for Loan Amount\", 5 for 'Document Type'\n",
    "labels = [[0, 0, 5, 5, 0, 3, 3, 3, 0, 0, 0, 0, 0, 0, 0, 0, 4, 4, 0, 1, 1, 0, 0, 0, 0, 0, 0, 0, 0, 0, 2, 2, 2, 0],]\n",
    "\n",
    "# Tokenization\n",
    "token_lists = [list(nlp(sentence)) for sentence in sentences]\n",
    "\n",
    "# Validate token and label lengths\n",
    "for idx, tokens in enumerate(token_lists):\n",
    "    assert len(tokens) == len(labels[idx]), f\" Mismatch in sentence {idx + 1}, Tokens: {len(tokens)}, Labels: {len(labels[idx])}\"\n",
    "\n",
    "# Convert token vectors to embeddings\n",
    "embeddings = [np.array([token.vector for token in token_list]) for token_list in token_lists]\n",
    "embeddings = [tf.convert_to_tensor(emb, dtype=tf.float32) for emb in embeddings]\n",
    "X_train = tf.concat(embeddings, axis=0)\n",
    "Y_train = tf.convert_to_tensor([label for sublist in labels for label in sublist], dtype=tf.int32)\n",
    "\n",
    "class SimpleNERModel(tf.keras.Model):\n",
    "    def __init__(self, num_labels):\n",
    "        super(SimpleNERModel, self).__init__()\n",
    "        self.fc = tf.keras.layers.Dense(num_labels)\n",
    "\n",
    "    def call(self, inputs):\n",
    "        return self.fc(inputs)\n",
    "# Initialize and train the model\n",
    "input_dim = X_train.shape[1]\n",
    "num_labels = 6  # 'Other', 'Person', 'Property Address'\n",
    "model = SimpleNERModel(num_labels)\n",
    "criterion = tf.keras.losses.SparseCategoricalCrossentropy(from_logits=True)\n",
    "optimizer = tf.keras.optimizers.Adam(learning_rate=0.01)\n",
    "\n",
    "# Train the model (simplified)\n",
    "for epoch in range(100):\n",
    "    with tf.GradientTape() as tape:\n",
    "        outputs = model(X_train)\n",
    "        loss = criterion(Y_train, outputs)\n",
    "\n",
    "    gradients = tape.gradient(loss, model.trainable_variables)\n",
    "    optimizer.apply_gradients(zip(gradients, model.trainable_variables))\n",
    "\n",
    "# Predict named entities and get confidence scores for a new sentence\n",
    "new_sentence = \"This Deed of Trust was made between David Lee as Trustee and Michelle King as Beneficiary for 789 Oak Rd with a sum of $250,000.\"\n",
    "new_doc = nlp(new_sentence)\n",
    "new_embeddings = tf.convert_to_tensor([token.vector for token in new_doc], dtype=tf.float32)\n",
    "\n",
    "with tf.GradientTape(persistent=True) as tape:\n",
    "    predictions = model(new_embeddings)\n",
    "    softmax_outputs = tf.nn.softmax(predictions, axis=1)\n",
    "    predicted_classes = tf.argmax(softmax_outputs, axis=1)\n",
    "    confidence_scores = tf.reduce_max(softmax_outputs, axis=1)\n",
    "\n",
    "label_map = {0: 'Other', 1: 'Person', 2: 'Property Address', 3:'Bank (Lender)', 4: 'Loan Amount', 5: 'Document Type'}\n",
    "for token, label, confidence in zip(new_doc, predicted_classes, confidence_scores):\n",
    "    print(f\"Token: {token}, Label: {label_map[label.numpy()]}, Confidence: {confidence.numpy():.4f}\")\n"
   ]
  },
  {
   "cell_type": "markdown",
   "metadata": {
    "id": "6nldWfoS9tM3"
   },
   "source": [
    "<b> Model-3"
   ]
  },
  {
   "cell_type": "code",
   "execution_count": 25,
   "metadata": {
    "colab": {
     "base_uri": "https://localhost:8080/"
    },
    "id": "kFupTr-48dkb",
    "outputId": "c09a47ea-9f7b-4e3d-d4d7-dd08700236f3"
   },
   "outputs": [
    {
     "name": "stdout",
     "output_type": "stream",
     "text": [
      "Token: This, Label: Other, Confidence: 0.9941\n",
      "Token: Deed, Label: Other, Confidence: 1.0000\n",
      "Token: of, Label: Bank (Lender), Confidence: 0.5996\n",
      "Token: Trust, Label: Other, Confidence: 0.9987\n",
      "Token: was, Label: Person, Confidence: 0.5541\n",
      "Token: made, Label: Other, Confidence: 1.0000\n",
      "Token: between, Label: Other, Confidence: 0.9981\n",
      "Token: David, Label: Person, Confidence: 0.6779\n",
      "Token: Lee, Label: Bank (Lender), Confidence: 0.9985\n",
      "Token: as, Label: Property Address, Confidence: 0.9134\n",
      "Token: Trustee, Label: Bank (Lender), Confidence: 0.5764\n",
      "Token: and, Label: Person, Confidence: 0.7364\n",
      "Token: Michelle, Label: Bank (Lender), Confidence: 0.9999\n",
      "Token: King, Label: Bank (Lender), Confidence: 0.9974\n",
      "Token: as, Label: Other, Confidence: 0.9538\n",
      "Token: Beneficiary, Label: Other, Confidence: 0.8750\n",
      "Token: for, Label: Other, Confidence: 0.6891\n",
      "Token: 789, Label: Other, Confidence: 0.8805\n",
      "Token: Oak, Label: Property Address, Confidence: 1.0000\n",
      "Token: Rd, Label: Other, Confidence: 0.9995\n",
      "Token: with, Label: Other, Confidence: 0.9987\n",
      "Token: a, Label: Other, Confidence: 1.0000\n",
      "Token: sum, Label: Other, Confidence: 1.0000\n",
      "Token: of, Label: Loan Amount, Confidence: 0.9992\n",
      "Token: $, Label: Loan Amount, Confidence: 1.0000\n",
      "Token: 250,000, Label: Other, Confidence: 1.0000\n",
      "Token: ., Label: Person, Confidence: 0.9958\n"
     ]
    }
   ],
   "source": [
    "import tensorflow as tf\n",
    "import numpy as np\n",
    "\n",
    "# Initialize spaCy\n",
    "nlp = spacy.load('en_core_web_sm')\n",
    "\n",
    "# Mortgage-related training data\n",
    "sentences = [\n",
    "    \"In this Mortgage Deed, Bank of America, the Lender, provides a the loan of $500,000 to John Doe, the Borrower, secured by the property at 123 Elm St.\",\n",
    "]\n",
    "\n",
    "# Corresponding named entity annotations (simplified)\n",
    "# 0 for 'Other', 1 for 'Person', 2 for Property Address', 3 for 'Bank (Lender)', 4 for Loan Amount\", 5 for 'Document Type'\n",
    "labels = [[0, 0, 5, 5, 0, 3, 3, 3, 0, 0, 0, 0, 0, 0, 0, 0, 4, 4, 0, 1, 1, 0, 0, 0, 0, 0, 0, 0, 0, 0, 2, 2, 2, 0],]\n",
    "\n",
    "# Tokenization\n",
    "token_lists = [list(nlp(sentence)) for sentence in sentences]\n",
    "\n",
    "# Validate token and label lengths\n",
    "for idx, tokens in enumerate(token_lists):\n",
    "    assert len(tokens) == len(labels[idx]), f\" Mismatch in sentence {idx + 1}, Tokens: {len(tokens)}, \n",
    "    Labels: {len(labels[idx])}\"\n",
    "\n",
    "# Convert token vectors to embeddings\n",
    "embeddings = [np.array([token.vector for token in token_list]) for token_list in token_lists]\n",
    "embeddings = [tf.convert_to_tensor(emb, dtype=tf.float32) for emb in embeddings]\n",
    "X_train = tf.concat(embeddings, axis=0)\n",
    "Y_train = tf.convert_to_tensor([label for sublist in labels for label in sublist], dtype=tf.int32)\n",
    "\n",
    "class SimpleNERModel(tf.keras.Model):\n",
    "    def __init__(self, num_labels):\n",
    "        super(SimpleNERModel, self).__init__()\n",
    "        self.fc = tf.keras.layers.Dense(num_labels)\n",
    "\n",
    "    def call(self, inputs):\n",
    "        return self.fc(inputs)\n",
    "# Initialize and train the model\n",
    "input_dim = X_train.shape[1]\n",
    "num_labels = 6  # 'Other', 'Person', 'Property Address'\n",
    "model = SimpleNERModel(num_labels)\n",
    "criterion = tf.keras.losses.SparseCategoricalCrossentropy(from_logits=True)\n",
    "optimizer = tf.keras.optimizers.Adam(learning_rate=0.1)  # Increase the learning rate\n",
    "\n",
    "# Train the model (increased epochs)\n",
    "num_epochs = 300\n",
    "for epoch in range(num_epochs):\n",
    "    with tf.GradientTape() as tape:\n",
    "        outputs = model(X_train)\n",
    "        loss = criterion(Y_train, outputs)\n",
    "\n",
    "    gradients = tape.gradient(loss, model.trainable_variables)\n",
    "    optimizer.apply_gradients(zip(gradients, model.trainable_variables))\n",
    "\n",
    "# Predict named entities and get confidence scores for a new sentence\n",
    "new_sentence = \"This Deed of Trust was made between David Lee as Trustee and Michelle King as Beneficiary for 789 Oak Rd with a sum of $250,000.\"\n",
    "new_doc = nlp(new_sentence)\n",
    "new_embeddings = tf.convert_to_tensor([token.vector for token in new_doc], dtype=tf.float32)\n",
    "\n",
    "with tf.GradientTape(persistent=True) as tape:\n",
    "    predictions = model(new_embeddings)\n",
    "    softmax_outputs = tf.nn.softmax(predictions, axis=1)\n",
    "    predicted_classes = tf.argmax(softmax_outputs, axis=1)\n",
    "    confidence_scores = tf.reduce_max(softmax_outputs, axis=1)\n",
    "\n",
    "label_map = {0: 'Other', 1: 'Person', 2: 'Property Address', 3:'Bank (Lender)', 4: 'Loan Amount', 5: 'Document Type'}\n",
    "for token, label, confidence in zip(new_doc, predicted_classes, confidence_scores):\n",
    "    print(f\"Token: {token}, Label: {label_map[label.numpy()]}, Confidence: {confidence.numpy():.4f}\")\n"
   ]
  },
  {
   "cell_type": "markdown",
   "metadata": {
    "id": "w8nWgQRo_Pe_"
   },
   "source": [
    "<b> Experimentation"
   ]
  },
  {
   "cell_type": "code",
   "execution_count": 27,
   "metadata": {
    "colab": {
     "base_uri": "https://localhost:8080/"
    },
    "id": "TGq_5Hlm9aOp",
    "outputId": "5925556c-daf3-4916-b9ef-8eaf85040e6b"
   },
   "outputs": [
    {
     "name": "stdout",
     "output_type": "stream",
     "text": [
      "Token: A, Label: Other, Confidence: 1.0000\n",
      "Token: loan, Label: Property Address, Confidence: 0.7109\n",
      "Token: agreement, Label: Other, Confidence: 1.0000\n",
      "Token: is, Label: Other, Confidence: 0.9907\n",
      "Token: a, Label: Other, Confidence: 0.9974\n",
      "Token: very, Label: Document Type, Confidence: 0.9428\n",
      "Token: complex, Label: Document Type, Confidence: 0.8363\n",
      "Token: document, Label: Other, Confidence: 1.0000\n",
      "Token: that, Label: Bank (Lender), Confidence: 0.9790\n",
      "Token: can, Label: Document Type, Confidence: 0.9171\n",
      "Token: protect, Label: Other, Confidence: 0.9989\n",
      "Token: the, Label: Other, Confidence: 1.0000\n",
      "Token: two, Label: Property Address, Confidence: 0.8184\n",
      "Token: parties, Label: Other, Confidence: 0.9988\n",
      "Token: involved, Label: Other, Confidence: 0.9772\n",
      "Token: ., Label: Person, Confidence: 0.9160\n",
      "Token: In, Label: Other, Confidence: 1.0000\n",
      "Token: most, Label: Document Type, Confidence: 1.0000\n",
      "Token: cases, Label: Property Address, Confidence: 0.4224\n",
      "Token: the, Label: Other, Confidence: 0.9313\n",
      "Token: lender, Label: Other, Confidence: 1.0000\n",
      "Token: creates, Label: Other, Confidence: 0.9999\n",
      "Token: the, Label: Other, Confidence: 0.9244\n",
      "Token: loan, Label: Person, Confidence: 0.7337\n",
      "Token: agreement, Label: Other, Confidence: 1.0000\n",
      "Token: ,, Label: Other, Confidence: 1.0000\n",
      "Token: which, Label: Person, Confidence: 0.9849\n",
      "Token: means, Label: Other, Confidence: 0.8021\n",
      "Token: the, Label: Other, Confidence: 0.9702\n",
      "Token: burden, Label: Other, Confidence: 0.9999\n",
      "Token: of, Label: Other, Confidence: 0.9886\n",
      "Token: including, Label: Loan Amount, Confidence: 0.6601\n",
      "Token: all, Label: Other, Confidence: 1.0000\n",
      "Token: of, Label: Loan Amount, Confidence: 1.0000\n",
      "Token: the, Label: Other, Confidence: 1.0000\n",
      "Token: terms, Label: Other, Confidence: 0.8630\n",
      "Token: for, Label: Property Address, Confidence: 0.4752\n",
      "Token: the, Label: Other, Confidence: 1.0000\n",
      "Token: agreement, Label: Other, Confidence: 0.9999\n",
      "Token: falls, Label: Other, Confidence: 0.9993\n",
      "Token: on, Label: Other, Confidence: 0.8585\n",
      "Token: the, Label: Other, Confidence: 1.0000\n",
      "Token: lending, Label: Bank (Lender), Confidence: 0.8007\n",
      "Token: party, Label: Other, Confidence: 1.0000\n",
      "Token: ., Label: Person, Confidence: 0.9584\n",
      "Token: Unless, Label: Other, Confidence: 0.9998\n",
      "Token: you, Label: Other, Confidence: 0.9997\n",
      "Token: have, Label: Loan Amount, Confidence: 0.8963\n",
      "Token: created, Label: Other, Confidence: 0.9999\n",
      "Token: loan, Label: Property Address, Confidence: 0.7347\n",
      "Token: agreements, Label: Other, Confidence: 0.9453\n",
      "Token: before, Label: Property Address, Confidence: 1.0000\n",
      "Token: ,, Label: Property Address, Confidence: 0.9554\n",
      "Token: you, Label: Other, Confidence: 0.9806\n",
      "Token: will, Label: Person, Confidence: 0.6678\n",
      "Token: likely, Label: Person, Confidence: 0.9972\n",
      "Token: want, Label: Other, Confidence: 0.8885\n",
      "Token: to, Label: Person, Confidence: 1.0000\n",
      "Token: make, Label: Other, Confidence: 1.0000\n",
      "Token: sure, Label: Other, Confidence: 0.9657\n",
      "Token: that, Label: Person, Confidence: 0.3535\n",
      "Token: you, Label: Other, Confidence: 0.9996\n",
      "Token: completely, Label: Document Type, Confidence: 1.0000\n",
      "Token: understand, Label: Other, Confidence: 1.0000\n",
      "Token: all, Label: Other, Confidence: 0.9999\n",
      "Token: of, Label: Loan Amount, Confidence: 1.0000\n",
      "Token: the, Label: Other, Confidence: 1.0000\n",
      "Token: components, Label: Other, Confidence: 0.6882\n",
      "Token: so, Label: Property Address, Confidence: 0.9843\n",
      "Token: you, Label: Property Address, Confidence: 0.7714\n",
      "Token: do, Label: Document Type, Confidence: 0.7341\n",
      "Token: not, Label: Loan Amount, Confidence: 1.0000\n",
      "Token: leave, Label: Other, Confidence: 1.0000\n",
      "Token: out, Label: Property Address, Confidence: 0.5601\n",
      "Token: anything, Label: Other, Confidence: 0.9998\n",
      "Token: that, Label: Person, Confidence: 0.6561\n",
      "Token: can, Label: Document Type, Confidence: 0.5696\n",
      "Token: protect, Label: Other, Confidence: 0.9988\n",
      "Token: you, Label: Bank (Lender), Confidence: 0.9873\n",
      "Token: during, Label: Property Address, Confidence: 0.8956\n",
      "Token: the, Label: Other, Confidence: 1.0000\n",
      "Token: lifetime, Label: Other, Confidence: 1.0000\n",
      "Token: of, Label: Loan Amount, Confidence: 0.9591\n",
      "Token: the, Label: Other, Confidence: 1.0000\n",
      "Token: loan, Label: Other, Confidence: 1.0000\n",
      "Token: ., Label: Person, Confidence: 0.7923\n",
      "Token: This, Label: Other, Confidence: 1.0000\n",
      "Token: guide, Label: Other, Confidence: 0.9999\n",
      "Token: can, Label: Document Type, Confidence: 0.8965\n",
      "Token: help, Label: Other, Confidence: 0.9809\n",
      "Token: you, Label: Person, Confidence: 0.9990\n",
      "Token: create, Label: Other, Confidence: 1.0000\n",
      "Token: a, Label: Other, Confidence: 1.0000\n",
      "Token: solid, Label: Document Type, Confidence: 0.8966\n",
      "Token: loan, Label: Document Type, Confidence: 0.4783\n",
      "Token: agreement, Label: Other, Confidence: 1.0000\n",
      "Token: and, Label: Other, Confidence: 0.9851\n",
      "Token: understand, Label: Other, Confidence: 0.9999\n",
      "Token: more, Label: Other, Confidence: 0.9903\n",
      "Token: about, Label: Person, Confidence: 0.5107\n",
      "Token: the, Label: Other, Confidence: 1.0000\n",
      "Token: mechanics, Label: Other, Confidence: 0.8561\n",
      "Token: behind, Label: Property Address, Confidence: 0.9063\n",
      "Token: it, Label: Other, Confidence: 0.8163\n",
      "Token: ., Label: Person, Confidence: 0.9983\n"
     ]
    }
   ],
   "source": [
    "import tensorflow as tf\n",
    "import numpy as np\n",
    "\n",
    "# Initialize spaCy\n",
    "nlp = spacy.load('en_core_web_sm')\n",
    "\n",
    "# Mortgage-related training data\n",
    "sentences = [\n",
    "    \"In this Mortgage Deed, Bank of America, the Lender, provides a the loan of $500,000 to John Doe, the Borrower, secured by the property at 123 Elm St.\",\n",
    "]\n",
    "\n",
    "# Corresponding named entity annotations (simplified)\n",
    "# 0 for 'Other', 1 for 'Person', 2 for Property Address', 3 for 'Bank (Lender)', 4 for Loan Amount\", 5 for 'Document Type'\n",
    "labels = [[0, 0, 5, 5, 0, 3, 3, 3, 0, 0, 0, 0, 0, 0, 0, 0, 4, 4, 0, 1, 1, 0, 0, 0, 0, 0, 0, 0, 0, 0, 2, 2, 2, 0],]\n",
    "\n",
    "# Tokenization\n",
    "token_lists = [list(nlp(sentence)) for sentence in sentences]\n",
    "\n",
    "# Validate token and label lengths\n",
    "for idx, tokens in enumerate(token_lists):\n",
    "    assert len(tokens) == len(labels[idx]), f\" Mismatch in sentence {idx + 1}, Tokens: {len(tokens)}, Labels: {len(labels[idx])}\"\n",
    "\n",
    "# Convert token vectors to embeddings\n",
    "embeddings = [np.array([token.vector for token in token_list]) for token_list in token_lists]\n",
    "embeddings = [tf.convert_to_tensor(emb, dtype=tf.float32) for emb in embeddings]\n",
    "X_train = tf.concat(embeddings, axis=0)\n",
    "Y_train = tf.convert_to_tensor([label for sublist in labels for label in sublist], dtype=tf.int32)\n",
    "\n",
    "class SimpleNERModel(tf.keras.Model):\n",
    "    def __init__(self, num_labels):\n",
    "        super(SimpleNERModel, self).__init__()\n",
    "        self.fc = tf.keras.layers.Dense(num_labels)\n",
    "\n",
    "    def call(self, inputs):\n",
    "        return self.fc(inputs)\n",
    "# Initialize and train the model\n",
    "input_dim = X_train.shape[1]\n",
    "num_labels = 6  # 'Other', 'Person', 'Property Address'\n",
    "model = SimpleNERModel(num_labels)\n",
    "criterion = tf.keras.losses.SparseCategoricalCrossentropy(from_logits=True)\n",
    "optimizer = tf.keras.optimizers.Adam(learning_rate=0.1)  # Increase the learning rate\n",
    "\n",
    "# Train the model (increased epochs)\n",
    "num_epochs = 300\n",
    "for epoch in range(num_epochs):\n",
    "    with tf.GradientTape() as tape:\n",
    "        outputs = model(X_train)\n",
    "        loss = criterion(Y_train, outputs)\n",
    "\n",
    "    gradients = tape.gradient(loss, model.trainable_variables)\n",
    "    optimizer.apply_gradients(zip(gradients, model.trainable_variables))\n",
    "\n",
    "# Predict named entities and get confidence scores for a new sentence\n",
    "new_sentence = \"A loan agreement is a very complex document that can protect the two parties involved. In most cases the lender creates the loan agreement, which means the burden of including all of the terms for the agreement falls on the lending party. Unless you have created loan agreements before, you will likely want to make sure that you completely understand all of the components so you do not leave out anything that can protect you during the lifetime of the loan. This guide can help you create a solid loan agreement and understand more about the mechanics behind it.\"\n",
    "new_doc = nlp(new_sentence)\n",
    "new_embeddings = tf.convert_to_tensor([token.vector for token in new_doc], dtype=tf.float32)\n",
    "\n",
    "with tf.GradientTape(persistent=True) as tape:\n",
    "    predictions = model(new_embeddings)\n",
    "    softmax_outputs = tf.nn.softmax(predictions, axis=1)\n",
    "    predicted_classes = tf.argmax(softmax_outputs, axis=1)\n",
    "    confidence_scores = tf.reduce_max(softmax_outputs, axis=1)\n",
    "\n",
    "label_map = {0: 'Other', 1: 'Person', 2: 'Property Address', 3:'Bank (Lender)', 4: 'Loan Amount', 5: 'Document Type'}\n",
    "for token, label, confidence in zip(new_doc, predicted_classes, confidence_scores):\n",
    "    print(f\"Token: {token}, Label: {label_map[label.numpy()]}, Confidence: {confidence.numpy():.4f}\")\n"
   ]
  },
  {
   "cell_type": "code",
   "execution_count": null,
   "metadata": {
    "id": "VmHRVEgs-u4A"
   },
   "outputs": [],
   "source": []
  }
 ],
 "metadata": {
  "accelerator": "GPU",
  "colab": {
   "gpuType": "T4",
   "provenance": []
  },
  "kernelspec": {
   "display_name": "Python 3",
   "language": "python",
   "name": "python3"
  },
  "language_info": {
   "codemirror_mode": {
    "name": "ipython",
    "version": 3
   },
   "file_extension": ".py",
   "mimetype": "text/x-python",
   "name": "python",
   "nbconvert_exporter": "python",
   "pygments_lexer": "ipython3",
   "version": "3.8.5"
  }
 },
 "nbformat": 4,
 "nbformat_minor": 1
}
